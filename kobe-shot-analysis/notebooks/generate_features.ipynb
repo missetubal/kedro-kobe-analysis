{
 "cells": [
  {
   "cell_type": "code",
   "execution_count": null,
   "metadata": {},
   "outputs": [],
   "source": [
    "import pandas as pd\n",
    "import numpy as np\n",
    "import os\n",
    "\n",
    "# Caminhos\n",
    "INPUT_PATH = \"../data/01_raw/dataset_kobe_prod.parquet\"\n",
    "OUTPUT_PATH = \"../data/04_feature/data_features_prod.parquet\""
   ]
  },
  {
   "cell_type": "code",
   "execution_count": null,
   "metadata": {},
   "outputs": [],
   "source": [
    "from gettext import Catalog\n",
    "\n",
    "\n",
    "raw_data = Catalog.load(\"data_shots\")"
   ]
  },
  {
   "cell_type": "code",
   "execution_count": 4,
   "metadata": {},
   "outputs": [
    {
     "name": "stdout",
     "output_type": "stream",
     "text": [
      "\n",
      "📊 Informações gerais:\n",
      "<class 'pandas.core.frame.DataFrame'>\n",
      "Index: 5412 entries, 10 to 30695\n",
      "Data columns (total 7 columns):\n",
      " #   Column             Non-Null Count  Dtype  \n",
      "---  ------             --------------  -----  \n",
      " 0   lat                5412 non-null   float64\n",
      " 1   lon                5412 non-null   float64\n",
      " 2   minutes_remaining  5412 non-null   int64  \n",
      " 3   period             5412 non-null   int64  \n",
      " 4   playoffs           5412 non-null   int64  \n",
      " 5   shot_distance      5412 non-null   int64  \n",
      " 6   shot_made_flag     5412 non-null   float64\n",
      "dtypes: float64(3), int64(4)\n",
      "memory usage: 338.2 KB\n",
      "None\n",
      "\n",
      "📈 Estatísticas descritivas:\n",
      "               lat          lon  minutes_remaining       period     playoffs  \\\n",
      "count  5412.000000  5412.000000        5412.000000  5412.000000  5412.000000   \n",
      "mean     33.849585  -118.263931           4.087029     2.703806     0.136918   \n",
      "std       0.084045     0.157584           3.442213     1.146149     0.343792   \n",
      "min      33.253300  -118.519800           0.000000     1.000000     0.000000   \n",
      "25%      33.805300  -118.422800           1.000000     2.000000     0.000000   \n",
      "50%      33.835300  -118.258800           4.000000     3.000000     0.000000   \n",
      "75%      33.877300  -118.115800           7.000000     4.000000     0.000000   \n",
      "max      34.079300  -118.021800          11.000000     7.000000     1.000000   \n",
      "\n",
      "       shot_distance  shot_made_flag  \n",
      "count    5412.000000     5412.000000  \n",
      "mean       25.604028        0.329268  \n",
      "std         4.174941        0.469991  \n",
      "min         0.000000        0.000000  \n",
      "25%        24.000000        0.000000  \n",
      "50%        25.000000        0.000000  \n",
      "75%        26.000000        1.000000  \n",
      "max        79.000000        1.000000  \n"
     ]
    }
   ],
   "source": [
    "df = pd.read_parquet(INPUT_PATH)\n",
    "print(\"\\n📊 Informações gerais:\")\n",
    "print(df.info())\n",
    "print(\"\\n📈 Estatísticas descritivas:\")\n",
    "print(df.describe())"
   ]
  },
  {
   "cell_type": "code",
   "execution_count": null,
   "metadata": {},
   "outputs": [
    {
     "name": "stdout",
     "output_type": "stream",
     "text": [
      "\n",
      "🔍 Valores ausentes por coluna:\n",
      "lat                  0\n",
      "lon                  0\n",
      "minutes_remaining    0\n",
      "period               0\n",
      "playoffs             0\n",
      "shot_distance        0\n",
      "shot_made_flag       0\n",
      "dtype: int64\n"
     ]
    }
   ],
   "source": [
    "# ===== FEATURE ENGINEERING =====\n",
    "\n",
    "# Exemplo 1: Criar uma coluna de distância ao cesto (hipotética)\n",
    "if {\"loc_x\", \"loc_y\"}.issubset(df.columns):\n",
    "    df[\"distance_to_hoop\"] = np.sqrt(df[\"loc_x\"] ** 2 + df[\"loc_y\"] ** 2)\n",
    "\n",
    "# Exemplo 2: Criar uma coluna para saber se foi um arremesso de 3 pontos\n",
    "if \"shot_type\" in df.columns:\n",
    "    df[\"is_three_point\"] = df[\"shot_type\"].apply(lambda x: 1 if \"3PT\" in x else 0)\n",
    "\n",
    "# Exemplo 3: Codificar variáveis categóricas com poucas categorias\n",
    "low_card_cat_cols = [\n",
    "    col for col in df.select_dtypes(include=\"object\") if df[col].nunique() <= 10\n",
    "]\n",
    "df = pd.get_dummies(df, columns=low_card_cat_cols, drop_first=True)\n",
    "\n",
    "# Exemplo 4: Preencher valores ausentes\n",
    "df.fillna(df.median(numeric_only=True), inplace=True)\n",
    "\n",
    "# Verificar novamente os nulos\n",
    "print(\"\\n✅ Após tratamento, valores ausentes:\")\n",
    "print(df.isnull().sum().sum())\n",
    "\n",
    "# Separar X e y, se a variável target existir\n",
    "if \"shot_made_flag\" in df.columns:\n",
    "    df = df.dropna(subset=[\"shot_made_flag\"])  # Remove linhas sem target\n",
    "    print(f\"\\n🎯 Target presente: {df['shot_made_flag'].value_counts(normalize=True)}\")\n",
    "\n",
    "# Salvando os dados processados\n",
    "os.makedirs(os.path.dirname(OUTPUT_PATH), exist_ok=True)\n",
    "df.to_parquet(OUTPUT_PATH, index=False)\n",
    "print(f\"\\n💾 Dados salvos com sucesso em: {OUTPUT_PATH}\")"
   ]
  }
 ],
 "metadata": {
  "kernelspec": {
   "display_name": "venv_kobe",
   "language": "python",
   "name": "python3"
  },
  "language_info": {
   "codemirror_mode": {
    "name": "ipython",
    "version": 3
   },
   "file_extension": ".py",
   "mimetype": "text/x-python",
   "name": "python",
   "nbconvert_exporter": "python",
   "pygments_lexer": "ipython3",
   "version": "3.11.0rc1"
  }
 },
 "nbformat": 4,
 "nbformat_minor": 2
}
